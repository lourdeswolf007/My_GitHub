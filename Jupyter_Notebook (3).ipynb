{
 "cells": [
  {
   "cell_type": "markdown",
   "metadata": {},
   "source": [
    "<center>\n",
    "    <img src=\"https://cf-courses-data.s3.us.cloud-object-storage.appdomain.cloud/IBMDeveloperSkillsNetwork-DS0105EN-SkillsNetwork/labs/Module2/images/SN_web_lightmode.png\" width=\"300\" alt=\"cognitiveclass.ai logo\">\n",
    "</center>\n"
   ]
  },
  {
   "cell_type": "markdown",
   "metadata": {},
   "source": [
    "#### Add your code below following the instructions given in the course\n"
   ]
  },
  {
   "cell_type": "markdown",
   "metadata": {},
   "source": [
    "# Exercise 2 - Title\n",
    "Jupiter_Notebook"
   ]
  },
  {
   "cell_type": "markdown",
   "metadata": {},
   "source": [
    "# Exercise 3 - Introduction\n",
    "This is Module 6 Peer Assignment"
   ]
  },
  {
   "cell_type": "markdown",
   "metadata": {},
   "source": [
    "# Exercise 4 - Data Science Languages:\n",
    "\n",
    "1. Java\n",
    "\n",
    "2. Phyton\n",
    "\n",
    "3. R\n"
   ]
  },
  {
   "cell_type": "markdown",
   "metadata": {},
   "source": [
    "# Exercise 5 - Data Science Libraries:\n",
    "These are some of the most common data science libraries:\n",
    "\n",
    "1. Numpy\n",
    "2. Keras\n",
    "3. Pandas\n",
    "4. PyCharm\n",
    "5. Pytorch\n",
    "    "
   ]
  },
  {
   "cell_type": "markdown",
   "metadata": {},
   "source": [
    "# Exercise 6 - Table of Data Science Tools\n",
    "\n",
    "|Data Management Tools|Operating System Tools|Data Integration Tools|\n",
    "|---------------------|----------------------|----------------------|\n",
    "|My SQL               |Jupyter               |Spark SQL             |\n",
    "|---------------------|----------------------|----------------------|\n",
    "|PosgreSQL            |Pycharm               |KubeFlow              |\n",
    "|---------------------|----------------------|----------------------|\n",
    "|Cassandra            |RStudio               |Airflow               |\n",
    "\n"
   ]
  },
  {
   "cell_type": "markdown",
   "metadata": {},
   "source": [
    "# Exercise 7 - Create a markdown cell introducing arithmetic expression examples.\n",
    "\n",
    "Arithmetic expressions are fun and these are some of the most common ones.\n",
    "\n",
    "print(2 + 2)\n",
    "\n",
    "print(6 * 2)\n",
    "\n",
    "print(7 - 4)\n",
    "\n",
    "print(2**2)\n",
    "\n",
    "print(10 % 2)\n",
    "\n",
    "print(74//5)"
   ]
  },
  {
   "cell_type": "markdown",
   "metadata": {},
   "source": [
    "# Exercise 8 - Create a code cell to multiply and add numbers.\n",
    "\n",
    "6 * 2\n",
    "\n",
    "7 + 7"
   ]
  },
  {
   "cell_type": "markdown",
   "metadata": {},
   "source": [
    "# Exercise 9 - Create a code cell to convert minutes to hours.\n",
    "\n",
    "\n",
    "120 minutes = 120/60\n",
    "\n",
    "print(120/60)"
   ]
  },
  {
   "cell_type": "markdown",
   "metadata": {},
   "source": [
    "# Exercise 10 - Insert a markdown cell to list Objectives.\n",
    "1. Learn Data Science Tools \n",
    "2. Get familiar with Anaconda\n",
    "3. Understand the basic operators"
   ]
  },
  {
   "cell_type": "markdown",
   "metadata": {},
   "source": [
    "# Exercise 11 - Create a markdown cell to indicate the Author’s name.\n",
    "Guadalupe L Prieto"
   ]
  },
  {
   "cell_type": "code",
   "execution_count": null,
   "metadata": {},
   "outputs": [],
   "source": []
  }
 ],
 "metadata": {
  "kernelspec": {
   "display_name": "Python 3 (ipykernel)",
   "language": "python",
   "name": "python3"
  },
  "language_info": {
   "codemirror_mode": {
    "name": "ipython",
    "version": 3
   },
   "file_extension": ".py",
   "mimetype": "text/x-python",
   "name": "python",
   "nbconvert_exporter": "python",
   "pygments_lexer": "ipython3",
   "version": "3.11.9"
  }
 },
 "nbformat": 4,
 "nbformat_minor": 4
}
